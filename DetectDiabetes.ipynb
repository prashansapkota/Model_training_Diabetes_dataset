{
 "cells": [
  {
   "cell_type": "code",
   "execution_count": 1,
   "metadata": {},
   "outputs": [],
   "source": [
    "import numpy as np\n",
    "from sklearn.datasets import load_diabetes\n",
    "from sklearn.model_selection import train_test_split\n",
    "from sklearn.metrics import mean_squared_error, r2_score\n",
    "from sklearn.linear_model import LinearRegression\n",
    "from sklearn.tree import DecisionTreeRegressor\n",
    "from sklearn.neighbors import KNeighborsRegressor\n",
    "from sklearn.ensemble import VotingRegressor, BaggingRegressor, AdaBoostRegressor, GradientBoostingRegressor, RandomForestRegressor\n",
    "import matplotlib.pyplot as plt"
   ]
  },
  {
   "cell_type": "markdown",
   "metadata": {},
   "source": [
    "## Loading and splitting dataset"
   ]
  },
  {
   "cell_type": "code",
   "execution_count": 2,
   "metadata": {},
   "outputs": [
    {
     "name": "stdout",
     "output_type": "stream",
     "text": [
      "Training set size: (353, 10)\n",
      "Test set size:     (89, 10)\n"
     ]
    }
   ],
   "source": [
    "# Load the Diabetes dataset\n",
    "diabetes = load_diabetes()\n",
    "X = diabetes.data\n",
    "y = diabetes.target\n",
    "\n",
    "# Split into training and test sets\n",
    "X_train, X_test, y_train, y_test = train_test_split(\n",
    "    X, y, \n",
    "    test_size=0.2,\n",
    "    random_state=42\n",
    ")\n",
    "\n",
    "print(\"Training set size:\", X_train.shape)\n",
    "print(\"Test set size:    \", X_test.shape)\n"
   ]
  },
  {
   "cell_type": "markdown",
   "metadata": {},
   "source": [
    "## Voting Regressor"
   ]
  },
  {
   "cell_type": "code",
   "execution_count": null,
   "metadata": {},
   "outputs": [],
   "source": [
    "reg1 = LinearRegression()\n",
    "reg2 = DecisionTreeRegressor(random_state=42)\n",
    "reg3 = KNeighborsRegressor()\n",
    "\n",
    "voting_reg = VotingRegressor(\n",
    "    estimators=[(\"lr\", reg1), (\"dt\", reg2), (\"knn\", reg3)]\n",
    ")\n",
    "\n",
    "voting_reg.fit(X_train, y_train)\n",
    "y_pred_voting = voting_reg.predict(X_test)\n",
    "\n",
    "mse_voting = mean_squared_error(y_test, y_pred_voting)\n",
    "r2_voting = r2_score(y_test, y_pred_voting)\n",
    "\n",
    "print(\"=== Voting Regressor ===\")\n",
    "print(f\"MSE: {mse_voting:.2f}\")\n",
    "print(f\"R^2: {r2_voting:.2f}\").\n"
   ]
  },
  {
   "cell_type": "markdown",
   "metadata": {},
   "source": [
    "## Bagging Regressor"
   ]
  },
  {
   "cell_type": "code",
   "execution_count": 8,
   "metadata": {},
   "outputs": [
    {
     "name": "stdout",
     "output_type": "stream",
     "text": [
      "\n",
      "=== Bagging Regressor ===\n",
      "MSE: 3183.10\n",
      "R^2: 0.40\n"
     ]
    }
   ],
   "source": [
    "bag_reg = BaggingRegressor(\n",
    "    estimator=DecisionTreeRegressor(random_state=42),\n",
    "    n_estimators=50,  \n",
    "    max_samples=0.8,       \n",
    "    bootstrap=True,          \n",
    "    random_state=42\n",
    ")\n",
    "\n",
    "bag_reg.fit(X_train, y_train)\n",
    "y_pred_bagging = bag_reg.predict(X_test)\n",
    "\n",
    "mse_bagging = mean_squared_error(y_test, y_pred_bagging)\n",
    "r2_bagging = r2_score(y_test, y_pred_bagging)\n",
    "\n",
    "print(\"\\n=== Bagging Regressor ===\")\n",
    "print(f\"MSE: {mse_bagging:.2f}\")\n",
    "print(f\"R^2: {r2_bagging:.2f}\")"
   ]
  },
  {
   "cell_type": "markdown",
   "metadata": {},
   "source": [
    "## Boosting Regressor"
   ]
  },
  {
   "cell_type": "code",
   "execution_count": 9,
   "metadata": {},
   "outputs": [
    {
     "name": "stdout",
     "output_type": "stream",
     "text": [
      "\n",
      "=== AdaBoost Regressor ===\n",
      "MSE: 2804.06\n",
      "R^2: 0.47\n"
     ]
    }
   ],
   "source": [
    "\n",
    "ada_reg = AdaBoostRegressor(\n",
    "    estimator=DecisionTreeRegressor(max_depth=3, random_state=42),\n",
    "    n_estimators=50,\n",
    "    learning_rate=0.1,\n",
    "    random_state=42\n",
    ")\n",
    "\n",
    "ada_reg.fit(X_train, y_train)\n",
    "y_pred_ada = ada_reg.predict(X_test)\n",
    "\n",
    "mse_ada = mean_squared_error(y_test, y_pred_ada)\n",
    "r2_ada = r2_score(y_test, y_pred_ada)\n",
    "\n",
    "print(\"\\n=== AdaBoost Regressor ===\")\n",
    "print(f\"MSE: {mse_ada:.2f}\")\n",
    "print(f\"R^2: {r2_ada:.2f}\")"
   ]
  },
  {
   "cell_type": "markdown",
   "metadata": {},
   "source": [
    "## Random Forest Feature Importance "
   ]
  },
  {
   "cell_type": "code",
   "execution_count": 10,
   "metadata": {},
   "outputs": [
    {
     "name": "stdout",
     "output_type": "stream",
     "text": [
      "\n",
      "=== Random Forest Feature Importances ===\n",
      "bmi: 0.3555\n",
      "s5: 0.2310\n",
      "bp: 0.0884\n",
      "s6: 0.0713\n",
      "age: 0.0586\n",
      "s2: 0.0572\n",
      "s1: 0.0528\n",
      "s3: 0.0513\n",
      "s4: 0.0242\n",
      "sex: 0.0096\n"
     ]
    },
    {
     "data": {
      "image/png": "[encoded data removed]",
      "text/plain": [
       "<Figure size 800x500 with 1 Axes>"
      ]
     },
     "metadata": {},
     "output_type": "display_data"
    }
   ],
   "source": [
    "rf = RandomForestRegressor(n_estimators=100, random_state=42)\n",
    "rf.fit(X_train, y_train)\n",
    "\n",
    "importances = rf.feature_importances_\n",
    "\n",
    "indices = np.argsort(importances)[::-1]\n",
    "feature_names = diabetes.feature_names\n",
    "sorted_importances = importances[indices]\n",
    "sorted_names = [feature_names[i] for i in indices]\n",
    "\n",
    "print(\"\\n=== Random Forest Feature Importances ===\")\n",
    "for name, imp in zip(sorted_names, sorted_importances):\n",
    "    print(f\"{name}: {imp:.4f}\")\n",
    "\n",
    "plt.figure(figsize=(8, 5))\n",
    "plt.title(\"Feature Importances (Random Forest)\")\n",
    "plt.bar(range(len(sorted_importances)), sorted_importances)\n",
    "plt.xticks(range(len(sorted_importances)), sorted_names, rotation=45)\n",
    "plt.tight_layout()\n",
    "plt.show()"
   ]
  }
 ],
 "metadata": {
  "kernelspec": {
   "display_name": "venv",
   "language": "python",
   "name": "python3"
  },
  "language_info": {
   "codemirror_mode": {
    "name": "ipython",
    "version": 3
   },
   "file_extension": ".py",
   "mimetype": "text/x-python",
   "name": "python",
   "nbconvert_exporter": "python",
   "pygments_lexer": "ipython3",
   "version": "3.10.16"
  }
 },
 "nbformat": 4,
 "nbformat_minor": 2
}
